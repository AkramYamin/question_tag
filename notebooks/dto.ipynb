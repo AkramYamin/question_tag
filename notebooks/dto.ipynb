{
 "cells": [
  {
   "cell_type": "code",
   "execution_count": null,
   "metadata": {},
   "outputs": [],
   "source": [
    "import mysql.connector\n",
    "import pandas as pd "
   ]
  },
  {
   "cell_type": "code",
   "execution_count": null,
   "metadata": {},
   "outputs": [],
   "source": [
    "def fech_from_db(db, host=\"127.0.0.1\", user=\"root\", password=\"\", save_to=\"data/training1_data.csv\"):\n",
    "    cnx = mysql.connector.connect(user=user, password=password,\n",
    "                                  host=host,\n",
    "                                  database=db)\n",
    "    mycursor = cnx.cursor()\n",
    "    mycursor.execute(\"select questions.text, tags.name from questions, tags, question_tag where questions.id=question_tag.question_id and tags.id=question_tag.tag_id\")\n",
    "    myresult = mycursor.fetchall()\n",
    "    df = pd.DataFrame({\n",
    "        \"post\":[],\n",
    "        \"tags\":[]\n",
    "    })\n",
    "    for x in myresult:\n",
    "        df = df.append({\"post\":x[0], \"tags\":x[1]}, ignore_index=True)\n",
    "\n",
    "    df.to_csv(save_to, index=False)\n",
    "\n",
    "fech_from_db(\"DS\")"
   ]
  }
 ],
 "metadata": {
  "kernelspec": {
   "display_name": "Python 3",
   "language": "python",
   "name": "python3"
  },
  "language_info": {
   "codemirror_mode": {
    "name": "ipython",
    "version": 3
   },
   "file_extension": ".py",
   "mimetype": "text/x-python",
   "name": "python",
   "nbconvert_exporter": "python",
   "pygments_lexer": "ipython3",
   "version": "3.6.5"
  }
 },
 "nbformat": 4,
 "nbformat_minor": 2
}
